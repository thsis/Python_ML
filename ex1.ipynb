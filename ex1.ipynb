{
 "cells": [
  {
   "cell_type": "code",
   "execution_count": 34,
   "metadata": {
    "collapsed": true
   },
   "outputs": [],
   "source": [
    "# Ex1\n",
    "def classify(x):\n",
    "    solutions = ''\n",
    "    if x[0] == 'yes':\n",
    "        if float(x[1])  < 29.5:\n",
    "            solutions = 'less'\n",
    "        elif float(x[1])  > 29.5:\n",
    "            solutions = 'more'\n",
    "    else:\n",
    "        if x[2] == 'good':\n",
    "            solutions = 'less'\n",
    "        elif x[2] == 'poor':\n",
    "            solutions = 'more'\n",
    "    return solutions\n",
    "        \n",
    "        \n",
    "        "
   ]
  },
  {
   "cell_type": "code",
   "execution_count": 35,
   "metadata": {},
   "outputs": [
    {
     "name": "stdout",
     "output_type": "stream",
     "text": [
      "(('yes', 31, 'good'), 'more')\n"
     ]
    }
   ],
   "source": [
    "x= ('yes',  31,  'good') \n",
    "\n",
    "print((x,classify (x)))"
   ]
  },
  {
   "cell_type": "code",
   "execution_count": 36,
   "metadata": {},
   "outputs": [
    {
     "data": {
      "text/plain": [
       "[('yes', 21, 'poor'),\n",
       " ('no', 50, 'good'),\n",
       " ('no', 23, 'good'),\n",
       " ('yes', 45, 'poor'),\n",
       " ('yes', 51, 'good'),\n",
       " ('no', 60, 'good'),\n",
       " ('no', 15, 'poor'),\n",
       " ('no', 18, 'good')]"
      ]
     },
     "execution_count": 36,
     "metadata": {},
     "output_type": "execute_result"
    }
   ],
   "source": [
    "# Ex2\n",
    "data = []\n",
    "for line in open('health-test.txt'):\n",
    "    test = line.strip().split(',')\n",
    "    data.append(tuple((test[0],int(test[1]),test[2])))\n",
    "data\n"
   ]
  },
  {
   "cell_type": "code",
   "execution_count": 37,
   "metadata": {},
   "outputs": [],
   "source": [
    "# Ex3\n",
    "#results = []\n",
    "#for x in data:\n",
    "#    results = results + [classify(x)]\n",
    "#print(results)\n"
   ]
  },
  {
   "cell_type": "code",
   "execution_count": 38,
   "metadata": {},
   "outputs": [
    {
     "data": {
      "text/plain": [
       "0.375"
      ]
     },
     "execution_count": 38,
     "metadata": {},
     "output_type": "execute_result"
    }
   ],
   "source": [
    "# Ex3\n",
    "count = 0\n",
    "for r in results:\n",
    "    if r == 'more':\n",
    "        count = count + 1\n",
    "count/len(results)\n",
    "    "
   ]
  },
  {
   "cell_type": "code",
   "execution_count": 39,
   "metadata": {},
   "outputs": [
    {
     "data": {
      "text/plain": [
       "[(('yes', 54, 'good'), 'less'),\n",
       " (('no', 55, 'good'), 'less'),\n",
       " (('no', 26, 'good'), 'less'),\n",
       " (('yes', 40, 'good'), 'more'),\n",
       " (('yes', 25, 'poor'), 'less'),\n",
       " (('no', 13, 'poor'), 'more'),\n",
       " (('no', 15, 'good'), 'less'),\n",
       " (('no', 50, 'poor'), 'more'),\n",
       " (('yes', 33, 'good'), 'more'),\n",
       " (('no', 35, 'good'), 'less'),\n",
       " (('no', 41, 'good'), 'less'),\n",
       " (('yes', 30, 'poor'), 'more'),\n",
       " (('no', 39, 'poor'), 'more'),\n",
       " (('no', 20, 'good'), 'less'),\n",
       " (('yes', 18, 'poor'), 'less'),\n",
       " (('yes', 55, 'good'), 'more')]"
      ]
     },
     "execution_count": 39,
     "metadata": {},
     "output_type": "execute_result"
    }
   ],
   "source": [
    "# Ex5\n",
    "da = []\n",
    "for line in open('health-train.txt'):\n",
    "  col = line.strip().split(',')\n",
    "  da.append((tuple((col[0],int(col[1]),col[2])),col[-1]))\n",
    "da\n",
    "\n",
    "\n"
   ]
  },
  {
   "cell_type": "code",
   "execution_count": 47,
   "metadata": {},
   "outputs": [
    {
     "data": {
      "text/plain": [
       "(('yes', 31, 'good'), 'more')"
      ]
     },
     "execution_count": 47,
     "metadata": {},
     "output_type": "execute_result"
    }
   ],
   "source": [
    "# Ex5\n",
    "def d(a,b):\n",
    "    return (a[0]!=b[0])+((a[1]-b[1])/50.0)**2+(a[2]!=b[2])\n",
    "hdata=[]\n",
    "for n in range(1,len(da)):\n",
    "    hdata.append(tuple(da[n][0]))\n",
    "hdata\n",
    "\n",
    "testdis = ('yes',31,'good')\n",
    "x = []\n",
    "for component in hdata:\n",
    "    x = x + [d(testdis, component)]\n",
    "tuple((testdis,da[x.index(min(x))][-1])) \n",
    "\n"
   ]
  },
  {
   "cell_type": "code",
   "execution_count": null,
   "metadata": {},
   "outputs": [],
   "source": []
  },
  {
   "cell_type": "code",
   "execution_count": null,
   "metadata": {},
   "outputs": [],
   "source": []
  },
  {
   "cell_type": "raw",
   "metadata": {
    "collapsed": true
   },
   "source": []
  },
  {
   "cell_type": "code",
   "execution_count": null,
   "metadata": {
    "collapsed": true
   },
   "outputs": [],
   "source": []
  },
  {
   "cell_type": "code",
   "execution_count": null,
   "metadata": {
    "collapsed": true
   },
   "outputs": [],
   "source": []
  },
  {
   "cell_type": "code",
   "execution_count": null,
   "metadata": {
    "collapsed": true
   },
   "outputs": [],
   "source": []
  }
 ],
 "metadata": {
  "kernelspec": {
   "display_name": "Python 3",
   "language": "python",
   "name": "python3"
  },
  "language_info": {
   "codemirror_mode": {
    "name": "ipython",
    "version": 3
   },
   "file_extension": ".py",
   "mimetype": "text/x-python",
   "name": "python",
   "nbconvert_exporter": "python",
   "pygments_lexer": "ipython3",
   "version": "3.6.2"
  }
 },
 "nbformat": 4,
 "nbformat_minor": 2
}
