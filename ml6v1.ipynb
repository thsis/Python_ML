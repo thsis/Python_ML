{
 "cells": [
  {
   "cell_type": "markdown",
   "metadata": {},
   "source": [
    "# Fisher Linear Discriminant\n",
    "\n",
    "In this exercise, you will apply Fisher Linear Discriminant as described in Chapter 3.8.2 of Duda et al. on the UCI Abalone dataset. A description of the dataset is given at the page https://archive.ics.uci.edu/ml/datasets/Abalone. The following two methods are provided for your convenience: \n",
    "\n",
    "\n",
    "* **`utils.Abalone.__init__(self)`** reads the Abalone data and instantiates three data matrices of size (1528, 7), (1307, 7), and (1342, 7) corresponding to the three classes in the dataset: *male (M)*, *female (F)*, and *infant (I)*.\n",
    "\n",
    "\n",
    "* **`utils.Abalone.plot(self,w)`** produces a histogram of the data when projected onto a vector `w`, and where each class is shown in a different color.\n",
    "\n",
    "\n",
    "Sample code that makes use of these two methods is given below. It loads the data, looks at the shape of instantiated matrices, and plots various projections of the data: (1) projection on the first dimension of the data, and (2) projection on a random direction."
   ]
  },
  {
   "cell_type": "code",
   "execution_count": 1,
   "metadata": {},
   "outputs": [
    {
     "name": "stdout",
     "output_type": "stream",
     "text": [
      "(1528, 7) (1307, 7) (1342, 7)\n"
     ]
    },
    {
     "data": {
      "image/png": "[encoded data removed]",
      "text/plain": [
       "<matplotlib.figure.Figure at 0x2db20c96b00>"
      ]
     },
     "metadata": {},
     "output_type": "display_data"
    },
    {
     "data": {
      "image/png": "[encoded data removed]",
      "text/plain": [
       "<matplotlib.figure.Figure at 0x2db20cc1278>"
      ]
     },
     "metadata": {},
     "output_type": "display_data"
    }
   ],
   "source": [
    "%matplotlib inline\n",
    "import utils,numpy\n",
    "\n",
    "# Load the data\n",
    "abalone = utils.Abalone()\n",
    "\n",
    "# Print dataset size for each class\n",
    "print(abalone.M.shape,abalone.F.shape, abalone.I.shape)\n",
    "\n",
    "# Project data on the first dimension\n",
    "w1 = numpy.array([1,0,0,0,0,0,0])\n",
    "abalone.plot(w1,'projection on the first dimension')\n",
    "\n",
    "# Project data on a random direction\n",
    "w2 = numpy.random.normal(0,1,[7])\n",
    "w2 /= (w2**2).sum()**.5\n",
    "abalone.plot(w2,'projection on a random direction')"
   ]
  },
  {
   "cell_type": "markdown",
   "metadata": {},
   "source": [
    "## Implementation (30 P)\n",
    "\n",
    "* **Create a method `w = fisher(X1,X2)` that takes as input the data for two classes and returns the Fisher linear discriminant.**\n",
    "\n",
    "\n",
    "* **Create a method `J(X1,X2,w)` that evaluates the objective defined in Equation 96 of Duda et al. for an arbitrary projection vector `w`.**\n",
    "\n",
    "\n",
    "* **Create a method `z = phi(X)` that returns a quadratic expansion for each data point `x` in the dataset. Such expansion consists of the vector `x` itself, to which we concatenate the vector of all pairwise products between elements of `x`.** In other words, letting $x = (x_1,\\dots,x_d)$ denote the $d$-dimensional data point, the quadratic expansion for this data point is a $d \\cdot (d+3)/2$ dimensional vector given by $\\phi(x) = (x_i)_{1 \\leq i \\leq d} \\cup (x_i x_j)_{1 \\leq i \\leq j \\leq d}$. For example, the quadratic expansion for $d=2$ is $(x_1,x_2,x_1^2,x_2^2,x_1 x_2)$."
   ]
  },
  {
   "cell_type": "code",
   "execution_count": 2,
   "metadata": {},
   "outputs": [],
   "source": [
    "%matplotlib inline\n",
    "import utils,numpy\n",
    "\n",
    "def fisher(x1,x2):\n",
    "    # Compute the mean for each group\n",
    "    miu1 = x1.mean(axis=0)\n",
    "    miu2 = x2.mean(axis=0)\n",
    "    \n",
    "    # Substract mean in every group \n",
    "    x1_c =x1-miu1\n",
    "    x2_c =x2-miu2\n",
    "    \n",
    "    # Scatter matrices (Sw)\n",
    "    Sw = numpy.dot(x1_c.T,x1_c) + numpy.dot(x2_c.T,x2_c)\n",
    "    \n",
    "    # w for the Fisher LD\n",
    "    w = numpy.linalg.inv(Sw).dot(miu1 - miu2)\n",
    "    \n",
    "    return w\n",
    "\n",
    "def J(x1,x2,w):\n",
    "    # Compute the mean for each group\n",
    "    miu1 = x1.mean(axis=0)\n",
    "    miu2 = x2.mean(axis=0)\n",
    "    \n",
    "    # Substract mean in every group \n",
    "    x1_c =x1-miu1\n",
    "    x2_c =x2-miu2\n",
    "    \n",
    "    # Within-class scatter matrix (Sw)\n",
    "    Sw = numpy.dot(x1_c.T,x1_c) + numpy.dot(x2_c.T,x2_c)\n",
    "    \n",
    "    # Between-class scatter matrix (Sb)\n",
    "    mean_difference = miu1-miu2\n",
    "    Sb = numpy.outer(mean_difference,mean_difference) \n",
    "    \n",
    "    J = ((w.T).dot(Sb).dot(w))/((w.T).dot(Sw).dot(w))\n",
    "    return J\n",
    "\n",
    "def phi(x):\n",
    "    z = x\n",
    "    for i in range(0,len(x)):\n",
    "        for j in range(i,len(x)):\n",
    "            z = numpy.append(z, x[i]*x[j])\n",
    "    return z\n"
   ]
  },
  {
   "cell_type": "markdown",
   "metadata": {},
   "source": [
    "## Analysis (20 P)\n",
    "\n",
    "* **Print the value of `J(w)` for each discriminated pair of classes (M/F, M/I, F/I), and for several values of `w`:**\n",
    "\n",
    "  * `w` is a vector that projects the data on the each dimension of the data.\n",
    "  * `w` is the difference between the mean vectors of the two classes.\n",
    "  * `w` is the difference between the mean vectors of the two classes (after quadratic expansion of the data).\n",
    "  * `w` is the Fisher linear discriminant.\n",
    "  * `w` is the Fisher linear discriminant (after quadratic expansion of the data).\n",
    "\n",
    "\n",
    "* **For the simple Fisher linear discriminant, plot a histogram of the projected data for each discriminated pair of classes using the function `utils.Abalone.plot()`.**"
   ]
  },
  {
   "cell_type": "code",
   "execution_count": 3,
   "metadata": {},
   "outputs": [
    {
     "name": "stdout",
     "output_type": "stream",
     "text": [
      "w                   M/F        M/I        F/I \n",
      "-------------------------------------------------\n",
      "Dimension 0         0.00001    0.00056    0.00090\n",
      "Dimension 1         0.00001    0.00060    0.00097\n",
      "Dimension 2         0.00001    0.00058    0.00072\n",
      "Dimension 3         0.00001    0.00070    0.00108\n",
      "Dimension 4         0.00000    0.00060    0.00088\n",
      "Dimension 5         0.00001    0.00069    0.00109\n",
      "Dimension 6         0.00001    0.00066    0.00100\n",
      "-------------------------------------------------\n",
      "Means Linear        0.00001    0.00070    0.00108\n",
      "-------------------------------------------------\n",
      "Means Quadratic     0.00000    0.00054    0.00083\n",
      "-------------------------------------------------\n",
      "Fisher Linear       0.00004    0.00075    0.00120\n",
      "-------------------------------------------------\n",
      "Fisher Quadratic    0.00005    0.00101    0.00154\n"
     ]
    },
    {
     "data": {
      "image/png": "[encoded data removed]",
      "text/plain": [
       "<matplotlib.figure.Figure at 0x2db20e34cc0>"
      ]
     },
     "metadata": {},
     "output_type": "display_data"
    },
    {
     "data": {
      "image/png": "[encoded data removed]",
      "text/plain": [
       "<matplotlib.figure.Figure at 0x2db20fa0a58>"
      ]
     },
     "metadata": {},
     "output_type": "display_data"
    },
    {
     "data": {
      "image/png": "[encoded data removed]",
      "text/plain": [
       "<matplotlib.figure.Figure at 0x2db20e34ef0>"
      ]
     },
     "metadata": {},
     "output_type": "display_data"
    }
   ],
   "source": [
    "colNames = \"w               \" + \"    M/F \" + \"       M/I \" + \"       F/I \"\n",
    "print(colNames)\n",
    "print(\"-------------------------------------------------\")\n",
    "\n",
    "# w is a vector that projects the data on the each dimension of the data.\n",
    "identity = numpy.eye(7)\n",
    "for i in range(0,7):\n",
    "    J1 = J(abalone.M, abalone.F, identity[i])\n",
    "    J2 = J(abalone.M, abalone.I, identity[i])\n",
    "    J3 = J(abalone.F, abalone.I, identity[i])\n",
    "    print(\"Dimension \" + str(i) + \"      \" + \"{:10.5f}\".format(J1) + \" \" + \"{:10.5f}\".format(J2) + \" \" + \"{:10.5f}\".format(J3))\n",
    "\n",
    "# w is the difference between the mean vectors of the two classes.\n",
    "mean_males = abalone.M.mean(axis=0)\n",
    "mean_females = abalone.F.mean(axis=0)\n",
    "mean_infants = abalone.I.mean(axis=0)\n",
    "\n",
    "J1 = J(abalone.M, abalone.F, mean_males - mean_females)\n",
    "J2 = J(abalone.M, abalone.I, mean_males - mean_infants)\n",
    "J3 = J(abalone.F, abalone.I, mean_females - mean_infants)\n",
    "print(\"-------------------------------------------------\")\n",
    "print(\"Means Linear \" + \"    \" + \"{:10.5f}\".format(J1) + \" \" + \"{:10.5f}\".format(J2) + \" \" + \"{:10.5f}\".format(J3))\n",
    "\n",
    "# Matrices before doing quadratic expantion\n",
    "dim = int(abalone.M.shape[1]*(abalone.M.shape[1]+3)/2)\n",
    "quadratic_males = numpy.zeros((abalone.M.shape[0], dim))\n",
    "quadratic_females = numpy.zeros((abalone.F.shape[0], dim))\n",
    "quadratic_infants = numpy.zeros((abalone.I.shape[0], dim))\n",
    "\n",
    "# Quadratic expansion\n",
    "for i in range(0, abalone.M.shape[0]):\n",
    "    quadratic_males[i] = phi(abalone.M[i])\n",
    "\n",
    "for i in range(0, abalone.F.shape[0]):\n",
    "    quadratic_females[i] = phi(abalone.F[i])    \n",
    "\n",
    "for i in range(0, abalone.I.shape[0]):\n",
    "    quadratic_infants[i] = phi(abalone.I[i])\n",
    "\n",
    "# w is the difference between the mean vectors of the two classes (after quadratic expansion of the data).\n",
    "\n",
    "mean_malesQuad = quadratic_males.mean(axis=0)\n",
    "mean_femalesQuad = quadratic_females.mean(axis=0)\n",
    "mean_infantsQuad = quadratic_infants.mean(axis=0)\n",
    "\n",
    "J1 = J(quadratic_males, quadratic_females, mean_malesQuad - mean_femalesQuad)\n",
    "J2 = J(quadratic_males, quadratic_infants, mean_malesQuad - mean_infantsQuad)\n",
    "J3 = J(quadratic_females, quadratic_infants, mean_femalesQuad - mean_infantsQuad)\n",
    "print(\"-------------------------------------------------\")\n",
    "print(\"Means Quadratic \" + \" \" + \"{:10.5f}\".format(J1) + \" \" + \"{:10.5f}\".format(J2) + \" \" + \"{:10.5f}\".format(J3))\n",
    "\n",
    "# w is the Fisher linear discriminant.\n",
    "w1 = fisher(abalone.M,abalone.F)\n",
    "w2 = fisher(abalone.M,abalone.I)\n",
    "w3 = fisher(abalone.F,abalone.I)\n",
    "\n",
    "J1 = J(abalone.M, abalone.F, w1)\n",
    "J2 = J(abalone.M, abalone.I, w2)\n",
    "J3 = J(abalone.F, abalone.I, w3)\n",
    "print(\"-------------------------------------------------\")\n",
    "print(\"Fisher Linear \" + \"   \" + \"{:10.5f}\".format(J1) + \" \" + \"{:10.5f}\".format(J2) + \" \" + \"{:10.5f}\".format(J3))\n",
    "\n",
    "# w is the Fisher linear discriminant (after quadratic expansion of the data).\n",
    "\n",
    "q1 = fisher(quadratic_males, quadratic_females)\n",
    "q2 = fisher(quadratic_males, quadratic_infants)\n",
    "q3 = fisher(quadratic_females, quadratic_infants)\n",
    "\n",
    "J1 = J(quadratic_males, quadratic_females, q1)\n",
    "J2 = J(quadratic_males, quadratic_infants, q2)\n",
    "J3 = J(quadratic_females, quadratic_infants, q3)\n",
    "print(\"-------------------------------------------------\")\n",
    "print(\"Fisher Quadratic \" + \"{:10.5f}\".format(J1) + \" \" + \"{:10.5f}\".format(J2) + \" \" + \"{:10.5f}\".format(J3))\n",
    "\n",
    "# Histograms \n",
    "w1 = w1 / (w1**2).sum()**.5\n",
    "abalone.plot(w1,'Linear fisher (male/female)')\n",
    "\n",
    "w2 = w2 / (w2**2).sum()**.5\n",
    "abalone.plot(w2,'Linear fisher (male/infant)')\n",
    "\n",
    "w3 = w3 / (w3**2).sum()**.5\n",
    "abalone.plot(w3,'Linear fisher (female/infant)')"
   ]
  },
  {
   "cell_type": "code",
   "execution_count": null,
   "metadata": {
    "collapsed": true
   },
   "outputs": [],
   "source": []
  }
 ],
 "metadata": {
  "kernelspec": {
   "display_name": "Python 3",
   "language": "python",
   "name": "python3"
  },
  "language_info": {
   "codemirror_mode": {
    "name": "ipython",
    "version": 3
   },
   "file_extension": ".py",
   "mimetype": "text/x-python",
   "name": "python",
   "nbconvert_exporter": "python",
   "pygments_lexer": "ipython3",
   "version": "3.6.2"
  }
 },
 "nbformat": 4,
 "nbformat_minor": 1
}
