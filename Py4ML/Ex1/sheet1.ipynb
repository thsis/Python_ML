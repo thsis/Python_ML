{
 "cells": [
  {
   "cell_type": "markdown",
   "metadata": {},
   "source": [
    "# Exercise Sheet 1: Python Basics\n",
    "\n",
    "This first  exercise sheet tests the basic functionalities of the Python programming language in the context of a simple prediction task. We consider the problem of predicting health risk of subjects from personal data and habits. We first use for this task a decision tree\n",
    "\n",
    "![](tree.png)\n",
    "\n",
    "adapted from the webpage http://www.refactorthis.net/post/2013/04/10/Machine-Learning-tutorial-How-to-create-a-decision-tree-in-RapidMiner-using-the-Titanic-passenger-data-set.aspx. For this exercise sheet, you are required to use only pure Python, and to not import any module, including numpy. In exercise sheet 2, the nearest neighbor part of this exercise sheet will be revisited with numpy."
   ]
  },
  {
   "cell_type": "markdown",
   "metadata": {},
   "source": [
    "## Classifying a single instance (15 P)\n",
    "\n",
    "* Create a function that takes as input a tuple containing values for attributes (smoker,age,diet), and computes the output of the decision tree.\n",
    "* Test your function on the tuple `('yes',31,'good')`,"
   ]
  },
  {
   "cell_type": "code",
   "execution_count": 1,
   "metadata": {},
   "outputs": [
    {
     "data": {
      "text/plain": [
       "(('yes', 31, 'good'), 'more')"
      ]
     },
     "execution_count": 1,
     "metadata": {},
     "output_type": "execute_result"
    }
   ],
   "source": [
    "def classify(input_tuple):\n",
    "    \"\"\"Classify people's health status by comparing their age,\n",
    "    smoking habits and diet.\"\"\"\n",
    "    smoker, age, diet = input_tuple\n",
    "    if smoker == 'yes':\n",
    "        if int(age) <  29.5:\n",
    "            return 'less'\n",
    "        else:\n",
    "            return 'more'\n",
    "    else:\n",
    "        if diet == 'good':\n",
    "            return 'less'\n",
    "        else:\n",
    "            return 'more'\n",
    "\n",
    "test_tuple = ('yes', 31, 'good')\n",
    "test = classify(test_tuple)\n",
    "assert test == 'more'\n",
    "answer = ((test_tuple, test))\n",
    "answer"
   ]
  },
  {
   "cell_type": "markdown",
   "metadata": {},
   "source": [
    "## Reading a dataset from a text file (10 P)\n",
    "\n",
    "The file `health-test.txt` contains several fictious records of personal data and habits.\n",
    "\n",
    "* Read the file automatically using the methods introduced during the lecture.\n",
    "* Represent the dataset as a list of tuples."
   ]
  },
  {
   "cell_type": "code",
   "execution_count": 26,
   "metadata": {
    "scrolled": true
   },
   "outputs": [
    {
     "data": {
      "text/plain": [
       "[('yes', 21, 'poor'),\n",
       " ('no', 50, 'good'),\n",
       " ('no', 23, 'good'),\n",
       " ('yes', 45, 'poor'),\n",
       " ('yes', 51, 'good'),\n",
       " ('no', 60, 'good'),\n",
       " ('no', 15, 'poor'),\n",
       " ('no', 18, 'good')]"
      ]
     },
     "execution_count": 26,
     "metadata": {},
     "output_type": "execute_result"
    }
   ],
   "source": [
    "file_test = 'health-test.txt'\n",
    "health_test = []\n",
    "\n",
    "with open(file_test, 'r') as con:\n",
    "    for line in con:\n",
    "        extention = line.strip().split(',')\n",
    "        extention[1] = int(extention[1])\n",
    "        health_test.append(tuple(extention))\n",
    "health_test"
   ]
  },
  {
   "cell_type": "markdown",
   "metadata": {},
   "source": [
    "## Applying the decision tree to the dataset (15 P)\n",
    "\n",
    "* Apply the decision tree to all points in the dataset, and compute the percentage of them that are classified as \"more risk\"."
   ]
  },
  {
   "cell_type": "code",
   "execution_count": 13,
   "metadata": {},
   "outputs": [
    {
     "name": "stdout",
     "output_type": "stream",
     "text": [
      "predictions: ['less', 'less', 'less', 'more', 'more', 'less', 'more', 'less']\n",
      "percentage of 'more': 0.375\n",
      "----------------------------------------------------------\n"
     ]
    },
    {
     "data": {
      "text/plain": [
       "0.375"
      ]
     },
     "execution_count": 13,
     "metadata": {},
     "output_type": "execute_result"
    }
   ],
   "source": [
    "health_tree = []\n",
    "for subject in health_test:\n",
    "    health_tree.append(classify(subject))\n",
    "\n",
    "more_perc = float(health_tree.count('more')) / len(health_tree)\n",
    "print(\"predictions: %s\" % health_tree)\n",
    "print(\"percentage of 'more': %s\" % more_perc)\n",
    "print('----------------------------------------------------------')\n",
    "more_perc"
   ]
  },
  {
   "cell_type": "markdown",
   "metadata": {},
   "source": [
    "## Learning from examples (10 P)\n",
    "\n",
    "Suppose that instead of relying on a fixed decision tree, we would like to use a data-driven approach where data points are classified based on a set of training observations manually labeled by experts. Such labeled dataset is available in the file `health-train.txt`. The first three columns have the same meaning than for `health-test.txt`, and the last column corresponds to the labels.\n",
    "\n",
    "* Write a procedure that reads this file and converts it into a list of pairs. The first element of each pair is a triplet of attributes, and the second element is the label."
   ]
  },
  {
   "cell_type": "code",
   "execution_count": 27,
   "metadata": {},
   "outputs": [
    {
     "name": "stdout",
     "output_type": "stream",
     "text": [
      "train-set:\n",
      "\n"
     ]
    },
    {
     "data": {
      "text/plain": [
       "[(('yes', 54, 'good'), 'less'),\n",
       " (('no', 55, 'good'), 'less'),\n",
       " (('no', 26, 'good'), 'less'),\n",
       " (('yes', 40, 'good'), 'more'),\n",
       " (('yes', 25, 'poor'), 'less'),\n",
       " (('no', 13, 'poor'), 'more'),\n",
       " (('no', 15, 'good'), 'less'),\n",
       " (('no', 50, 'poor'), 'more'),\n",
       " (('yes', 33, 'good'), 'more'),\n",
       " (('no', 35, 'good'), 'less'),\n",
       " (('no', 41, 'good'), 'less'),\n",
       " (('yes', 30, 'poor'), 'more'),\n",
       " (('no', 39, 'poor'), 'more'),\n",
       " (('no', 20, 'good'), 'less'),\n",
       " (('yes', 18, 'poor'), 'less'),\n",
       " (('yes', 55, 'good'), 'more')]"
      ]
     },
     "execution_count": 27,
     "metadata": {},
     "output_type": "execute_result"
    }
   ],
   "source": [
    "file_train = 'health-train.txt'\n",
    "health_train = []\n",
    "with open(file_train) as con:\n",
    "    for line in con:\n",
    "        content = line.strip().split(',')\n",
    "        content[1] = int(content[1])\n",
    "        health_train.append((tuple(content[:3]), content[-1]))\n",
    "\n",
    "print(\"train-set:\\n\")\n",
    "health_train"
   ]
  },
  {
   "cell_type": "markdown",
   "metadata": {},
   "source": [
    "## Nearest neighbor classifier (25 P)\n",
    "\n",
    "We consider the nearest neighbor algorithm that classifies test points following the label of the nearest neighbor in the training data. For this, we need to define a distance function between data points. We define it to be\n",
    "\n",
    "`d(a,b) = (a[0]!=b[0])+((a[1]-b[1])/50.0)**2+(a[2]!=b[2])`\n",
    "\n",
    "where `a` and `b` are two tuples corrsponding to the attributes of two data points.\n",
    "\n",
    "* Write a function that retrieves for a test point the nearest neighbor in the training set, and classifies the test point accordingly.\n",
    "* Test your function on the tuple `('yes',31,'good')`"
   ]
  },
  {
   "cell_type": "code",
   "execution_count": 10,
   "metadata": {},
   "outputs": [
    {
     "data": {
      "text/plain": [
       "(('yes', 31, 'good'), 'more')"
      ]
     },
     "execution_count": 10,
     "metadata": {},
     "output_type": "execute_result"
    }
   ],
   "source": [
    "def d(a, b):\n",
    "    \"\"\"Calculate distance metric.\"\"\"\n",
    "    return (a[0]!=b[0]) + ((float(a[1])-float(b[1]))/50)**2 + (a[2]!=b[2])\n",
    "\n",
    "def get_nearest_neighbor(target, train_set):\n",
    "    dist = [d(target, x[0]) for x in train_set]\n",
    "    return train_set[dist.index(min(dist))]\n",
    "\n",
    "\n",
    "neighborino = get_nearest_neighbor(test_tuple, health_train)\n",
    "((test_tuple, neighborino[1]))"
   ]
  },
  {
   "cell_type": "markdown",
   "metadata": {},
   "source": [
    "* Apply both the decision tree and nearest neighbor classifiers on the test set, and find the data point(s) for which the two classifiers disagree, and with which probability it happens."
   ]
  },
  {
   "cell_type": "code",
   "execution_count": 12,
   "metadata": {},
   "outputs": [
    {
     "name": "stdout",
     "output_type": "stream",
     "text": [
      "Predictions by Decision Tree:\n",
      "['less', 'less', 'less', 'more', 'more', 'less', 'more', 'less']\n",
      "Predictions by Nearest Neighbor Algorithm:\n",
      "['less', 'less', 'less', 'more', 'less', 'less', 'more', 'less']\n",
      "Index: [4]\n",
      "Datapoint: [('yes', '51', 'good')]\n",
      "Probability: 0.125\n",
      "---------------------------------------------------------------------\n"
     ]
    },
    {
     "data": {
      "text/plain": [
       "([('yes', '51', 'good')], 0.125)"
      ]
     },
     "execution_count": 12,
     "metadata": {},
     "output_type": "execute_result"
    }
   ],
   "source": [
    "health_neighbor = []\n",
    "\n",
    "for subject in health_test:\n",
    "    extention = get_nearest_neighbor(subject, health_train)\n",
    "    health_neighbor.append(extention[1])\n",
    "\n",
    "print(\"Predictions by Decision Tree:\\n%s\" % health_tree)\n",
    "print(\"Predictions by Nearest Neighbor Algorithm:\\n%s\" % health_neighbor)\n",
    "\n",
    "indices = []\n",
    "different = []\n",
    "\n",
    "for i in range(len(health_tree)):\n",
    "    if health_tree[i] != health_neighbor[i]:\n",
    "        indices.append(i)\n",
    "        different.append(health_test[i])\n",
    "\n",
    "difference_prob = float(len(different)) / len(health_tree)\n",
    "\n",
    "print(\"Index: %s\\nDatapoint: %s\" % (indices, different))\n",
    "print(\"Probability: %s\" % difference_prob)\n",
    "print('---------------------------------------------------------------------')\n",
    "((different, difference_prob))"
   ]
  },
  {
   "cell_type": "markdown",
   "metadata": {},
   "source": [
    "One problem of simple nearest neighbors is that one needs to compare the point to predict to all data points in the training set. This can be slow for datasets of thousands of points or more. Alternatively, some classifiers train a model first, and then use it to classify the data.\n",
    "\n",
    "## Nearest mean classifier (25 P)\n",
    "\n",
    "We consider one such trainable model, which operates in two steps:\n",
    "\n",
    "(1) Compute the average point for each class, (2) classify new points to be of the class whose average point is nearest to the point to predict.\n",
    "\n",
    "For this classifier, we convert the attributes smoker and diet to real values (for smoker: yes=1.0 and no=0.0, and for diet: good=0.0 and poor=1.0), and use the modified distance function:\n",
    "\n",
    "`d(a,b) = (a[0]-b[0])**2+((a[1]-b[1])/50.0)**2+(a[2]-b[2])**2`\n",
    "\n",
    "We adopt an object-oriented approach for building this classifier.\n",
    "\n",
    "* Implement the methods `train` and `predict` of the class `NearestMeanClassifier`."
   ]
  },
  {
   "cell_type": "code",
   "execution_count": 15,
   "metadata": {},
   "outputs": [],
   "source": [
    "class NearestMeanClassifier(object):\n",
    "    \"\"\"Training Method that takes a dataset as input and produces two internal\n",
    "    vectors corresponding to the mean of each class.\"\"\"\n",
    "    def train(self, dataset):\n",
    "        # Data preparation\n",
    "        self.classes = []\n",
    "        data = []\n",
    "        for line in dataset:\n",
    "            if line[1] not in self.classes:\n",
    "                self.classes.append(line[1])\n",
    "\n",
    "            X, y = line\n",
    "            smoker, age, diet = X\n",
    "            numeric_tuple = ((int(smoker == 'yes'),\n",
    "                              int(age),\n",
    "                              int(diet == 'poor')), y)\n",
    "            data.append(numeric_tuple)\n",
    "\n",
    "        self.class_averages = []\n",
    "\n",
    "        for classes in self.classes:\n",
    "            dict_content = [tuples for tuples in data if tuples[1] == classes]\n",
    "            smoker_list = [tuples[0][0] for tuples in data if tuples[1] == classes]\n",
    "            age_list = [tuples[0][1] for tuples in data if tuples[1] == classes]\n",
    "            diet_list = [tuples[0][2] for tuples in data if tuples[1] == classes]\n",
    "\n",
    "            mean_tuple = ((float(sum(smoker_list)) / len(smoker_list),\n",
    "                           float(sum(age_list)) / len(age_list),\n",
    "                           float(sum(diet_list)) / len(diet_list)), classes)\n",
    "            self.class_averages.append(mean_tuple)\n",
    "\n",
    "    def predict(self, dataset):\n",
    "        # Define Distance-Metric\n",
    "        def d(a, b):\n",
    "            return (a[0] - b[0])**2 + ((a[1] - b[1])/50)**2 + (a[2] - b[2])**2\n",
    "\n",
    "        def get_nearest_neighbor(target, train_set):\n",
    "            dist = [d(target, x[0]) for x in train_set]\n",
    "            return train_set[dist.index(min(dist))][1]\n",
    "\n",
    "\n",
    "        self.predictions = []\n",
    "        for line in dataset:\n",
    "            smoker, age, diet = line\n",
    "            line_numeric = (int(smoker == 'yes'),\n",
    "                            int(age),\n",
    "                            int(diet == 'poor'))\n",
    "\n",
    "            prediction = get_nearest_neighbor(line_numeric, self.class_averages)\n",
    "            self.predictions.append(prediction)"
   ]
  },
  {
   "cell_type": "markdown",
   "metadata": {},
   "source": [
    "* Build an object of class `NearestMeanClassifier`, train it on the training data, and print the mean vector for each class."
   ]
  },
  {
   "cell_type": "code",
   "execution_count": 17,
   "metadata": {},
   "outputs": [
    {
     "name": "stdout",
     "output_type": "stream",
     "text": [
      "('less', (0.3333333333333333, 32.111111111111114, 0.2222222222222222))\n",
      "('more', (0.5714285714285714, 37.142857142857146, 0.5714285714285714))\n"
     ]
    },
    {
     "data": {
      "text/plain": [
       "[((0.3333333333333333, 32.111111111111114, 0.2222222222222222), 'less'),\n",
       " ((0.5714285714285714, 37.142857142857146, 0.5714285714285714), 'more')]"
      ]
     },
     "execution_count": 17,
     "metadata": {},
     "output_type": "execute_result"
    }
   ],
   "source": [
    "avg_neighbor = NearestMeanClassifier()\n",
    "avg_neighbor.train(health_train)\n",
    "avg_neighbor.predict(health_test)\n",
    "\n",
    "avg_neighbor.class_averages"
   ]
  },
  {
   "cell_type": "markdown",
   "metadata": {},
   "source": [
    "* Predict the test data using the nearest mean classifier and print all test examples for which all three classifiers (decision tree, nearest neighbor and nearest mean) agree."
   ]
  },
  {
   "cell_type": "code",
   "execution_count": 23,
   "metadata": {},
   "outputs": [
    {
     "name": "stdout",
     "output_type": "stream",
     "text": [
      "Coinciding Predictions:\n"
     ]
    },
    {
     "data": {
      "text/plain": [
       "[('no', '50', 'good'),\n",
       " ('no', '23', 'good'),\n",
       " ('yes', '45', 'poor'),\n",
       " ('no', '60', 'good'),\n",
       " ('no', '15', 'poor'),\n",
       " ('no', '18', 'good')]"
      ]
     },
     "execution_count": 23,
     "metadata": {},
     "output_type": "execute_result"
    }
   ],
   "source": [
    "same_pred = []\n",
    "for i in range(len(health_test)):\n",
    "    if health_tree[i] == health_neighbor[i] == health_avg_neighbor[i]:\n",
    "        same_pred.append(health_test[i])\n",
    "    \n",
    "print(\"Coinciding Predictions:\")\n",
    "same_pred"
   ]
  }
 ],
 "metadata": {
  "kernelspec": {
   "display_name": "Python 3",
   "language": "python",
   "name": "python3"
  },
  "language_info": {
   "codemirror_mode": {
    "name": "ipython",
    "version": 3
   },
   "file_extension": ".py",
   "mimetype": "text/x-python",
   "name": "python",
   "nbconvert_exporter": "python",
   "pygments_lexer": "ipython3",
   "version": "3.6.0"
  }
 },
 "nbformat": 4,
 "nbformat_minor": 1
}
