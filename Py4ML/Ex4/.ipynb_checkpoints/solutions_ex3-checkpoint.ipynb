{
 "cells": [
  {
   "cell_type": "markdown",
   "metadata": {},
   "source": [
    "# Sheet 3: Rounding, Overflow, Linear Algebra\n",
    "\n",
    "In this exercise sheet, we look at various sources of numerical overflow when executing Python and numpy code for large input values, and how to efficiently handle them, for example, by using numpy special functions."
   ]
  },
  {
   "cell_type": "code",
   "execution_count": 1,
   "metadata": {},
   "outputs": [],
   "source": [
    "import numpy,utils"
   ]
  },
  {
   "cell_type": "markdown",
   "metadata": {},
   "source": [
    "## Building a robust \"softplus\" nonlinear function (40 P)\n",
    "\n",
    "The softplus function is defined as:\n",
    "\n",
    "$$\n",
    "\\mathrm{softplus}(x) = \\log(1+\\exp(x)).\n",
    "$$\n",
    "\n",
    "It intervenes as elementary computation in certain machine learning models such as neural networks. Plotting it gives the following curve\n",
    "\n",
    "![plot generated using fooplot.com](softplus.png)\n",
    "\n",
    "where the function tends to zero for very negative input values and tends to the identity for very positive input values."
   ]
  },
  {
   "cell_type": "code",
   "execution_count": 2,
   "metadata": {
    "collapsed": true
   },
   "outputs": [],
   "source": [
    "def softplus(z): return numpy.log(1+numpy.exp(z))"
   ]
  },
  {
   "cell_type": "markdown",
   "metadata": {},
   "source": [
    "We consider an input vector from the module `utils` containing varying values between 1 and 10000. We would like to apply the `softplus` function to all of its element in an element-wise manner."
   ]
  },
  {
   "cell_type": "code",
   "execution_count": 3,
   "metadata": {},
   "outputs": [
    {
     "name": "stdout",
     "output_type": "stream",
     "text": [
      "[-10000, -1000, -100, -10, -1, 0, 1, 10, 100, 1000, 10000]\n"
     ]
    }
   ],
   "source": [
    "X = utils.softplus_inputs\n",
    "print X"
   ]
  },
  {
   "cell_type": "markdown",
   "metadata": {},
   "source": [
    "We choose these large values in order to test whether the behavior of the function is correct in all regimes of the function, in particular, for very small or very large values. The code below applies the `softplus` function directly to the vector of inputs and then prints for all cases the input and the corresponding function output:"
   ]
  },
  {
   "cell_type": "code",
   "execution_count": 4,
   "metadata": {},
   "outputs": [
    {
     "name": "stdout",
     "output_type": "stream",
     "text": [
      "softplus(-10000.0000) =      0.0000\n",
      "softplus( -1000.0000) =      0.0000\n",
      "softplus(  -100.0000) =      0.0000\n",
      "softplus(   -10.0000) =      0.0000\n",
      "softplus(    -1.0000) =      0.3133\n",
      "softplus(     0.0000) =      0.6931\n",
      "softplus(     1.0000) =      1.3133\n",
      "softplus(    10.0000) =     10.0000\n",
      "softplus(   100.0000) =    100.0000\n",
      "softplus(  1000.0000) =         inf\n",
      "softplus( 10000.0000) =         inf\n"
     ]
    },
    {
     "name": "stderr",
     "output_type": "stream",
     "text": [
      "C:\\Users\\Henry\\Anaconda\\lib\\site-packages\\IPython\\kernel\\__main__.py:1: RuntimeWarning: overflow encountered in exp\n",
      "  if __name__ == '__main__':\n"
     ]
    }
   ],
   "source": [
    "Y = softplus(X)\n",
    "for x,y in zip(X,Y):\n",
    "    print('softplus(%11.4f) = %11.4f'%(x,y))"
   ]
  },
  {
   "cell_type": "markdown",
   "metadata": {},
   "source": [
    "For large input values, the softplus function returns `inf` whereas analysis of that function tells us that it should compute the identity. Let's now try to apply the softplus function one element at a time, to see whether the problem comes from numpy arrays:"
   ]
  },
  {
   "cell_type": "code",
   "execution_count": 5,
   "metadata": {},
   "outputs": [
    {
     "name": "stdout",
     "output_type": "stream",
     "text": [
      "softplus(-10000.0000) =      0.0000\n",
      "softplus( -1000.0000) =      0.0000\n",
      "softplus(  -100.0000) =      0.0000\n",
      "softplus(   -10.0000) =      0.0000\n",
      "softplus(    -1.0000) =      0.3133\n",
      "softplus(     0.0000) =      0.6931\n",
      "softplus(     1.0000) =      1.3133\n",
      "softplus(    10.0000) =     10.0000\n",
      "softplus(   100.0000) =    100.0000\n",
      "softplus(  1000.0000) =         inf\n",
      "softplus( 10000.0000) =         inf\n"
     ]
    },
    {
     "name": "stderr",
     "output_type": "stream",
     "text": [
      "C:\\Users\\Henry\\Anaconda\\lib\\site-packages\\IPython\\kernel\\__main__.py:1: RuntimeWarning: overflow encountered in exp\n",
      "  if __name__ == '__main__':\n"
     ]
    }
   ],
   "source": [
    "for x in X:\n",
    "    y = softplus(x)\n",
    "    print('softplus(%11.4f) = %11.4f'%(x,y))"
   ]
  },
  {
   "cell_type": "markdown",
   "metadata": {},
   "source": [
    "Unfortunately, the result is the same. We observe that the function always stops working when its output approaches 1000, even though the input was given in high precision `float64`."
   ]
  },
  {
   "cell_type": "markdown",
   "metadata": {},
   "source": [
    "* Create an alternative function for `softplus` that applies to input scalars and that correctly applies to values that can be much larger than 1000 (e.g. billions or more). Your function can be written in Python directly and does not need numpy parallelization."
   ]
  },
  {
   "cell_type": "code",
   "execution_count": 7,
   "metadata": {},
   "outputs": [],
   "source": [
    "def softplus2(z):\n",
    "    z = numpy.clip(z,-100,float('inf'))     #reduces precises to one decimal place between min=-100 and max \"inf\"\n",
    "    return numpy.log((numpy.exp(-z)+1))+z"
   ]
  },
  {
   "cell_type": "code",
   "execution_count": 11,
   "metadata": {},
   "outputs": [],
   "source": [
    "#help(numpy.clip)"
   ]
  },
  {
   "cell_type": "code",
   "execution_count": 8,
   "metadata": {},
   "outputs": [
    {
     "name": "stdout",
     "output_type": "stream",
     "text": [
      "softplus2(-10000.0000) =      0.0000\n",
      "softplus2( -1000.0000) =      0.0000\n",
      "softplus2(  -100.0000) =      0.0000\n",
      "softplus2(   -10.0000) =      0.0000\n",
      "softplus2(    -1.0000) =      0.3133\n",
      "softplus2(     0.0000) =      0.6931\n",
      "softplus2(     1.0000) =      1.3133\n",
      "softplus2(    10.0000) =     10.0000\n",
      "softplus2(   100.0000) =    100.0000\n",
      "softplus2(  1000.0000) =   1000.0000\n",
      "softplus2( 10000.0000) =  10000.0000\n"
     ]
    }
   ],
   "source": [
    "Y = softplus2(X)\n",
    "for x,y in zip(X,Y):\n",
    "    print('softplus2(%11.4f) = %11.4f'%(x,y))"
   ]
  },
  {
   "cell_type": "markdown",
   "metadata": {},
   "source": [
    "As we have seen in the previous exercise sheet, the problem of functions that apply to scalars only is that they are less efficient than functions that apply to vectors directly. Therefore, we would like to handle the rounding issue directly at the vector level.\n",
    "\n",
    "* Create a new softplus function that applies to vectors and that has the desired behavior for large input values. Your function should be fast for large input vectors (i.e. it is not appropriate to use an inner Python loop inside the function)."
   ]
  },
  {
   "cell_type": "code",
   "execution_count": 63,
   "metadata": {},
   "outputs": [
    {
     "name": "stdout",
     "output_type": "stream",
     "text": [
      "softplus3(-10000.0000) =      0.0000\n",
      "softplus3( -1000.0000) =      0.0000\n",
      "softplus3(  -100.0000) =      0.0000\n",
      "softplus3(   -10.0000) =      0.0000\n",
      "softplus3(    -1.0000) =      0.3133\n",
      "softplus3(     0.0000) =      0.6931\n",
      "softplus3(     1.0000) =      1.3133\n",
      "softplus3(    10.0000) =     10.0000\n",
      "softplus3(   100.0000) =    100.0000\n",
      "softplus3(  1000.0000) =   1000.0000\n",
      "softplus3( 10000.0000) =  10000.0000\n"
     ]
    }
   ],
   "source": [
    "def softplus3(z):\n",
    "    z = numpy.clip(z,-100,float('inf'))\n",
    "    return numpy.log((numpy.exp(-z)+1))+z\n",
    "\n",
    "Y =softplus3(X)\n",
    "#print numpy.concatenate([numpy.array(X,ndmin=2),numpy.array(Y, ndmin=2)], axis=0)\n",
    "#print \"#############################################################################################\"\n",
    "\n",
    "for i in range(len(Y)):\n",
    "   print('softplus3(%11.4f) = %11.4f'%(X[i],Y[i])) "
   ]
  },
  {
   "cell_type": "markdown",
   "metadata": {},
   "source": [
    "## Computing a partition function (30 P)\n",
    "\n",
    "We consider a discrete probability distribution of type\n",
    "$$\n",
    "p(\\boldsymbol{x};\\boldsymbol{w}) = \\frac{1}{Z(\\boldsymbol{w})} \\exp(\\boldsymbol{x}^\\top \\boldsymbol{w})\n",
    "$$\n",
    "where $\\boldsymbol{x} \\in \\{-1,1\\}^{10}$ is an observation, and $\\boldsymbol{w} \\in \\mathbb{R}^{10}$ is a vector of parameters. The term $Z(\\boldsymbol{w})$ is called the partition function and is chosen such that the probability distribution sums to 1. That is, the equation:\n",
    "$$\n",
    "\\sum_{\\boldsymbol{x} \\in \\{-1,1\\}^{10}} p(\\boldsymbol{x};\\boldsymbol{w}) = 1\n",
    "$$\n",
    "must be satisfied. Below is a simple method that computes the log of the partition function $Z(\\boldsymbol{w})$ for various choices of parameter vectors. The considered parameters (`w_small`, `w_medium`, and `w_large`) are increasingly large (and thus problematic), and can be found in the file `utils.py`."
   ]
  },
  {
   "cell_type": "code",
   "execution_count": 68,
   "metadata": {},
   "outputs": [
    {
     "name": "stdout",
     "output_type": "stream",
     "text": [
      "        inf\n"
     ]
    },
    {
     "name": "stderr",
     "output_type": "stream",
     "text": [
      "C:\\Users\\Henry\\Anaconda\\lib\\site-packages\\IPython\\kernel\\__main__.py:7: RuntimeWarning: overflow encountered in exp\n"
     ]
    }
   ],
   "source": [
    "import numpy,utils\n",
    "import itertools\n",
    "\n",
    "def getlogZ(w):\n",
    "    Z = 0\n",
    "    for x in itertools.product([-1, 1], repeat=10):\n",
    "        Z += numpy.exp(numpy.dot(x,w))\n",
    "    return numpy.log(Z)\n",
    "print('%11.4f'%getlogZ(utils.w_small))\n",
    "print('%11.4f'%getlogZ(utils.w_medium))\n",
    "print('%11.4f'%getlogZ(utils.w_big))"
   ]
  },
  {
   "cell_type": "markdown",
   "metadata": {},
   "source": [
    "We can observe from these results, that for parameter vectors with large values (e.g. `utils.w_big`), the exponential function overflows, and thus, we do not obtain a correct value for the logarithm of `Z`.\n",
    "\n",
    "* Implement an improved function that avoids the overflow problem, and evaluate the partition function for the same parameters."
   ]
  },
  {
   "cell_type": "code",
   "execution_count": 76,
   "metadata": {},
   "outputs": [
    {
     "name": "stdout",
     "output_type": "stream",
     "text": [
      "    18.2457\n",
      "    89.5932\n",
      " 24921.9913\n"
     ]
    }
   ],
   "source": [
    "# We use log(sum(exp(x))) = A + log(sum(exp(x-A)))\n",
    "def getlogZ2(w):\n",
    "    dotmax = 0\n",
    "    for x in itertools.product([-1, 1], repeat=10):\n",
    "        if numpy.dot(x,w) > dotmax:\n",
    "            dotmax = numpy.dot(x,w)\n",
    "            #print dotmax\n",
    "\n",
    "    Z = 0\n",
    "    for x in itertools.product([-1, 1], repeat=10):\n",
    "        Z += numpy.exp(numpy.dot(x,w)-dotmax)\n",
    "        #print Z \n",
    "    \n",
    "    return numpy.log(Z)+dotmax\n",
    "\n",
    "print('%11.4f'%getlogZ2(utils.w_small))\n",
    "print('%11.4f'%getlogZ2(utils.w_medium))\n",
    "print('%11.4f'%getlogZ2(utils.w_big))\n"
   ]
  },
  {
   "cell_type": "markdown",
   "metadata": {},
   "source": [
    "* For the model with parameter `utils.w_big`, evaluate the log-probability of the binary vectors contained in the matrix `utils.X_bin`, and return the indices (starting from 0) of those that have probability greater or equal to 0.001."
   ]
  },
  {
   "cell_type": "code",
   "execution_count": 81,
   "metadata": {},
   "outputs": [],
   "source": [
    "#print utils.X1 ## no X_bin?"
   ]
  },
  {
   "cell_type": "markdown",
   "metadata": {},
   "source": [
    "## Probability of generating data from a Gaussian model (30 P)\n",
    "\n",
    "Consider a multivariate Gaussian distribution of mean vector `m` and covariance `S`. The probability associated to a vector `x` is given by:\n",
    "\n",
    "$$\n",
    "p(\\boldsymbol{x};(\\boldsymbol{m},S)) = \\frac{1}{\\sqrt{(2\\pi)^d \\mathrm{det}(S)}} \\exp \\Big( - \\frac12 (\\boldsymbol{x}-\\boldsymbol{m})^\\top S^{-1} (\\boldsymbol{x}-\\boldsymbol{m})\\Big)\n",
    "$$\n",
    "\n",
    "We consider the calculation of the probability of observing a certain dataset \n",
    "\n",
    "$$\n",
    "\\mathcal{D} = (\\boldsymbol{x}^{(1)},\\dots,\\boldsymbol{x}^{(N)})\n",
    "$$\n",
    "\n",
    "assuming the data is generated according to a Gaussian distribution of fixed parameters $\\boldsymbol{m}$ and $S$. Such probability density is given by the formula:\n",
    "\n",
    "$$\n",
    "\\log P(\\mathcal{D};(\\boldsymbol{m},S)) = \\log \\prod_{i=1}^N p(\\boldsymbol{x}^{(i)};(\\boldsymbol{m},S))\n",
    "$$\n",
    "\n",
    "The function below implements such function:"
   ]
  },
  {
   "cell_type": "code",
   "execution_count": 205,
   "metadata": {},
   "outputs": [],
   "source": [
    "import numpy,numpy.linalg,utils\n",
    "\n",
    "def logp(X,m,S):\n",
    "    \n",
    "    # Find the number of dimensions from the data vector\n",
    "    d = X.shape[1]\n",
    "    \n",
    "    # Invert the covariance matrix\n",
    "    Sinv = numpy.linalg.inv(S)\n",
    "    \n",
    "    # Compute the quadratic terms for all data points\n",
    "    Q = -0.5*(numpy.dot(X-m,Sinv)*(X-m)).sum(axis=1)\n",
    "    \n",
    "    # Raise them quadratic terms to the exponential\n",
    "    Q = numpy.exp(Q)\n",
    "    \n",
    "    # Divide by the terms in the denominator\n",
    "    P = Q / numpy.sqrt((2*numpy.pi)**d * numpy.linalg.det(S))\n",
    "    \n",
    "    # Take the product of the probability of each data points\n",
    "    Pprod = numpy.prod(P)\n",
    "    \n",
    "    # Return the log-probability\n",
    "    return numpy.log(Pprod)\n"
   ]
  },
  {
   "cell_type": "markdown",
   "metadata": {},
   "source": [
    "Evaluation of this function for various datasets and parameters provided in the file `utils.py` gives the following probabilities:"
   ]
  },
  {
   "cell_type": "code",
   "execution_count": 140,
   "metadata": {
    "scrolled": true
   },
   "outputs": [
    {
     "name": "stdout",
     "output_type": "stream",
     "text": [
      "-24.0531868705\n",
      "-inf\n"
     ]
    },
    {
     "name": "stderr",
     "output_type": "stream",
     "text": [
      "/usr/local/lib/python2.7/dist-packages/ipykernel/__main__.py:24: RuntimeWarning: divide by zero encountered in log\n",
      "/usr/local/lib/python2.7/dist-packages/ipykernel/__main__.py:15: RuntimeWarning: overflow encountered in exp\n"
     ]
    },
    {
     "ename": "OverflowError",
     "evalue": "(34, 'Numerical result out of range')",
     "output_type": "error",
     "traceback": [
      "\u001b[1;31m---------------------------------------------------------------------------\u001b[0m",
      "\u001b[1;31mOverflowError\u001b[0m                             Traceback (most recent call last)",
      "\u001b[1;32m<ipython-input-140-1d281498af6a>\u001b[0m in \u001b[0;36m<module>\u001b[1;34m()\u001b[0m\n\u001b[0;32m      1\u001b[0m \u001b[1;32mprint\u001b[0m \u001b[0mlogp\u001b[0m\u001b[1;33m(\u001b[0m\u001b[0mutils\u001b[0m\u001b[1;33m.\u001b[0m\u001b[0mX1\u001b[0m\u001b[1;33m,\u001b[0m\u001b[0mutils\u001b[0m\u001b[1;33m.\u001b[0m\u001b[0mm1\u001b[0m\u001b[1;33m,\u001b[0m\u001b[0mutils\u001b[0m\u001b[1;33m.\u001b[0m\u001b[0mS1\u001b[0m\u001b[1;33m)\u001b[0m\u001b[1;33m\u001b[0m\u001b[0m\n\u001b[0;32m      2\u001b[0m \u001b[1;32mprint\u001b[0m \u001b[0mlogp\u001b[0m\u001b[1;33m(\u001b[0m\u001b[0mutils\u001b[0m\u001b[1;33m.\u001b[0m\u001b[0mX2\u001b[0m\u001b[1;33m,\u001b[0m\u001b[0mutils\u001b[0m\u001b[1;33m.\u001b[0m\u001b[0mm2\u001b[0m\u001b[1;33m,\u001b[0m\u001b[0mutils\u001b[0m\u001b[1;33m.\u001b[0m\u001b[0mS2\u001b[0m\u001b[1;33m)\u001b[0m\u001b[1;33m\u001b[0m\u001b[0m\n\u001b[1;32m----> 3\u001b[1;33m \u001b[1;32mprint\u001b[0m \u001b[0mlogp\u001b[0m\u001b[1;33m(\u001b[0m\u001b[0mutils\u001b[0m\u001b[1;33m.\u001b[0m\u001b[0mX3\u001b[0m\u001b[1;33m,\u001b[0m\u001b[0mutils\u001b[0m\u001b[1;33m.\u001b[0m\u001b[0mm3\u001b[0m\u001b[1;33m,\u001b[0m\u001b[0mutils\u001b[0m\u001b[1;33m.\u001b[0m\u001b[0mS3\u001b[0m\u001b[1;33m)\u001b[0m\u001b[1;33m\u001b[0m\u001b[0m\n\u001b[0m",
      "\u001b[1;32m<ipython-input-139-65b594cb8e08>\u001b[0m in \u001b[0;36mlogp\u001b[1;34m(X, m, S)\u001b[0m\n\u001b[0;32m     16\u001b[0m \u001b[1;33m\u001b[0m\u001b[0m\n\u001b[0;32m     17\u001b[0m     \u001b[1;31m# Divide by the terms in the denominator\u001b[0m\u001b[1;33m\u001b[0m\u001b[1;33m\u001b[0m\u001b[0m\n\u001b[1;32m---> 18\u001b[1;33m     \u001b[0mP\u001b[0m \u001b[1;33m=\u001b[0m \u001b[0mQ\u001b[0m \u001b[1;33m/\u001b[0m \u001b[0mnumpy\u001b[0m\u001b[1;33m.\u001b[0m\u001b[0msqrt\u001b[0m\u001b[1;33m(\u001b[0m\u001b[1;33m(\u001b[0m\u001b[1;36m2\u001b[0m\u001b[1;33m*\u001b[0m\u001b[0mnumpy\u001b[0m\u001b[1;33m.\u001b[0m\u001b[0mpi\u001b[0m\u001b[1;33m)\u001b[0m\u001b[1;33m**\u001b[0m\u001b[0md\u001b[0m \u001b[1;33m*\u001b[0m \u001b[0mnumpy\u001b[0m\u001b[1;33m.\u001b[0m\u001b[0mlinalg\u001b[0m\u001b[1;33m.\u001b[0m\u001b[0mdet\u001b[0m\u001b[1;33m(\u001b[0m\u001b[0mS\u001b[0m\u001b[1;33m)\u001b[0m\u001b[1;33m)\u001b[0m\u001b[1;33m\u001b[0m\u001b[0m\n\u001b[0m\u001b[0;32m     19\u001b[0m \u001b[1;33m\u001b[0m\u001b[0m\n\u001b[0;32m     20\u001b[0m     \u001b[1;31m# Take the product of the probability of each data points\u001b[0m\u001b[1;33m\u001b[0m\u001b[1;33m\u001b[0m\u001b[0m\n",
      "\u001b[1;31mOverflowError\u001b[0m: (34, 'Numerical result out of range')"
     ]
    }
   ],
   "source": [
    "print logp(utils.X1,utils.m1,utils.S1)\n",
    "print logp(utils.X2,utils.m2,utils.S2)\n",
    "print logp(utils.X3,utils.m3,utils.S3)"
   ]
  },
  {
   "cell_type": "markdown",
   "metadata": {},
   "source": [
    "This function is numerically instable for multiple reasons. The product of many probabilities, the inversion of a large covariance matrix, and the computation of its determinant, are all potential causes for overflow. Thus, we would like to find a numerically robust way of performing each of these.\n",
    "\n",
    "* Implement a numerically stable version of the function `logp`\n",
    "* Evaluate it on the same datasets and parameters as the function `logp`"
   ]
  },
  {
   "cell_type": "code",
   "execution_count": 82,
   "metadata": {
    "scrolled": true
   },
   "outputs": [
    {
     "name": "stdout",
     "output_type": "stream",
     "text": [
      "-24.0531868705\n",
      "-2975.23627543\n",
      "-21558364.3355\n"
     ]
    }
   ],
   "source": [
    "import numpy,numpy.linalg,utils\n",
    "\n",
    "def logp2(X,m,S):\n",
    "    \n",
    "    # Find the number of dimensions from the data vector\n",
    "    d = X.shape[1]\n",
    "    \n",
    "    # Invert the covariance matrix\n",
    "    Sinv = numpy.linalg.pinv(S)        # .pinv() instead of .inv()   \n",
    "    \n",
    "    # Compute the quadratic terms for all data points\n",
    "    Q = -0.5*(numpy.dot(X-m,Sinv)*(X-m)).sum(axis=1)\n",
    "\n",
    "    ###\n",
    "    # from here totally different:\n",
    "    ###\n",
    "    #Compute the log of det(S)\n",
    "    sign, logdet = numpy.linalg.slogdet(S)\n",
    "    \n",
    "    # Compute the denominator\n",
    "    denom = d*numpy.log(numpy.sqrt(2*numpy.pi)) + (0.5*sign*logdet)\n",
    "    \n",
    "    return numpy.sum(Q-denom)\n",
    "\n",
    "\n",
    "print logp2(utils.X1,utils.m1,utils.S1)\n",
    "print logp2(utils.X2,utils.m2,utils.S2)\n",
    "print logp2(utils.X3,utils.m3,utils.S3)"
   ]
  },
  {
   "cell_type": "code",
   "execution_count": 88,
   "metadata": {},
   "outputs": [],
   "source": [
    "#help(numpy.linalg.inv)\n",
    "#print \"______________________________________________________________________________________________________\"\n",
    "#help(numpy.linalg.pinv) # Moore-Penrose pseudo-inverse of a matrix\n",
    "#print \"______________________________________________________________________________________________________\"\n",
    "#help(numpy.linalg.slogdet)"
   ]
  },
  {
   "cell_type": "code",
   "execution_count": null,
   "metadata": {
    "collapsed": true
   },
   "outputs": [],
   "source": []
  }
 ],
 "metadata": {
  "kernelspec": {
   "display_name": "Python 3",
   "language": "python",
   "name": "python3"
  },
  "language_info": {
   "codemirror_mode": {
    "name": "ipython",
    "version": 3
   },
   "file_extension": ".py",
   "mimetype": "text/x-python",
   "name": "python",
   "nbconvert_exporter": "python",
   "pygments_lexer": "ipython3",
   "version": "3.6.3"
  }
 },
 "nbformat": 4,
 "nbformat_minor": 1
}
